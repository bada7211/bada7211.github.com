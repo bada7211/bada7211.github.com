{
 "cells": [
  {
   "cell_type": "markdown",
   "metadata": {},
   "source": [
    "# Assignment 5"
   ]
  },
  {
   "cell_type": "markdown",
   "metadata": {},
   "source": [
    "## 2015136097 이수현\n",
    "\n",
    "---"
   ]
  },
  {
   "cell_type": "markdown",
   "metadata": {},
   "source": [
    "---\n",
    "### [문제 1]\n",
    "#### 클래스와 모듈의 공통점과 차이점에 대해 설명하시오."
   ]
  },
  {
   "cell_type": "markdown",
   "metadata": {},
   "source": [
    "#### ::설명::\n",
    "    모듈은 각각 구분이 가능한 자신만의 이름공간을 가져 이를 활용할 수 있는 다양한 방법들이 있습니다. 이 모듈 안에서도 모듈과 비슷한 역할을 하여 새로운 이름공간을 제공하는 단위가 클래스입니다. 클래스는 모듈 안의 클래스 영역으로 이름공간을 구성합니다. 클래스와 모듈 모두 이름공간을 제공한다는 점에서 공통점을 가집니다. 하지만 모듈은 파일 단위로 이름 공간을 구성하는 반면, 클래스는 클래스 영역과 인스턴스 영역 내에 이름 공간을 구성한다는 점에서 차이를 보입니다."
   ]
  },
  {
   "cell_type": "markdown",
   "metadata": {},
   "source": [
    "---\n",
    "### [문제 2]\n",
    "#### 다형성에 대해 설명하고 다형성을 보여주는 자신만의 파이썬 코드 예제를 제시하시오."
   ]
  },
  {
   "cell_type": "code",
   "execution_count": 9,
   "metadata": {
    "collapsed": false
   },
   "outputs": [
    {
     "name": "stdout",
     "output_type": "stream",
     "text": [
      "사각형 그리기\n",
      "삼각형 그리기\n",
      "원 그리기\n"
     ]
    }
   ],
   "source": [
    "class Figure:\n",
    "    def draw(self):\n",
    "        print '도형 그리기'\n",
    "        \n",
    "class Rectangle(Figure):\n",
    "    def draw(self):\n",
    "        print '사각형 그리기'\n",
    "        \n",
    "class Triangle(Figure):\n",
    "    def draw(self):\n",
    "        print '삼각형 그리기'\n",
    "        \n",
    "class Circle(Figure):\n",
    "    def draw(self):\n",
    "        print '원 그리기'\n",
    "\n",
    "for each in (Rectangle(), Triangle(), Circle()):\n",
    "    each.draw()"
   ]
  },
  {
   "cell_type": "markdown",
   "metadata": {},
   "source": [
    "#### ::설명::\n",
    "    다형성은 상속 관계 내의 다른 클래스들의 인스턴스들이 같은 멤버 함수 호출에 대해 각각 다르게 반응하도록 하는 기능입니다. 적은 코딩으로 다양한 객체들에게 유사한 작업을 수행시킬 수 있고, 프로그램 작성 코드 량이 줄어들고, 코드의 가독성을 높혀주는 장점을 가집니다. 파이썬에서는 형 선언이 없다는 점에서 파이썬에서는 다형성을 적용하기가 더욱 용이하고, 실시간으로 객체의 형이 결정되므로 단 하나의 메소드에 의해 처리될 수 있는 객체의 종류에 제한이 없다는 점에서 더욱 장점을 가집니다."
   ]
  },
  {
   "cell_type": "markdown",
   "metadata": {},
   "source": [
    "---\n",
    "### [문제 3]\n",
    "#### 다음 각 요구사항 모두를 만족시키는 Counter 클래스를 코딩하시오.(요구사항 생략)\n"
   ]
  },
  {
   "cell_type": "code",
   "execution_count": 7,
   "metadata": {
    "collapsed": false
   },
   "outputs": [],
   "source": [
    "class Counter : \n",
    "    def __init__(self, count, step=1):\n",
    "        self.count = count\n",
    "        self.step = step\n",
    "    def __str__(self):\n",
    "        return \"[Count (step: \"+ str(self.step) + \")] \" + str(self.count)\n",
    "    def incr(self):\n",
    "        self.count = self.count+ self.step\n",
    "    def __call__(self):\n",
    "        self.incr()\n",
    "    def __add__(self,num):\n",
    "        return Counter(self.count+num,self.step)\n",
    "    def __sub__(self,num):\n",
    "        return Counter(self.count-num,self.step)   \n",
    "    def __lt__(self, other):\n",
    "        if self.count < other:\n",
    "            return True\n",
    "        else:\n",
    "            return False\n",
    "    def __gt__(self, other):\n",
    "        if self.count > other:\n",
    "            return True\n",
    "        else:\n",
    "            return False  \n",
    "    def __eq__(self, other):\n",
    "        if self.count == other:\n",
    "            return True\n",
    "        else:\n",
    "            return False\n",
    "    def __ne__(self, other):\n",
    "        if self.count != other:\n",
    "            return True\n",
    "        else:\n",
    "            return False\n",
    "               "
   ]
  },
  {
   "cell_type": "markdown",
   "metadata": {},
   "source": [
    "#### ::설명::\n",
    "1. _ _init_ _을 사용하여 생성자를 정의하였습니다.\n",
    "2. _ _str_ _을 사용하여 요구사항대로 출력할 수 있도록 하였습니다.\n",
    "3. incr에서 count를 증가시킬 수 있도록 하였습니다.\n",
    "4. _ _call_ _을 사용하여 인스턴스 객체를 직접 호출하면 내부적으로 self.incr()을 통해 count를 증가시키도록 하였습니다.\n",
    "5. _ _add_ _ 등의 연산자 중복을 구현하였습니다."
   ]
  },
  {
   "cell_type": "markdown",
   "metadata": {},
   "source": [
    "---\n",
    "### [문제 4]\n",
    "#### 다음은 내장 자료형 list를 서브클래싱하여 만든 MySet 클래스 정의 내용이다. 다음 클래스 정의에서 __init__(), __str()__(), elimicate_duplicate()의 세 개의 메소드 코드 내용을 자신이 다른 사람에게 가르친다고 생각하며 설명해보시오.\n",
    "\n",
    "- MySet은 집합(Set) 자료형을 정의하려는 의도하에 만들어진 클래스이다.\n",
    "   "
   ]
  },
  {
   "cell_type": "code",
   "execution_count": 18,
   "metadata": {
    "collapsed": false
   },
   "outputs": [
    {
     "name": "stdout",
     "output_type": "stream",
     "text": [
      "MySet: {1 ,2 ,3}\n",
      "MySet: {2 ,3 ,4 ,5 ,6 ,7 ,8 ,9}\n"
     ]
    }
   ],
   "source": [
    "class MySet(list):\n",
    "    def __init__(self, l):\n",
    "        for e in l:\n",
    "            self.append(e)\n",
    "        MySet.eliminate_duplicate(self)\n",
    "    \n",
    "    def __str__(self):\n",
    "        result = \"MySet: {\"\n",
    "        for e in self:\n",
    "            result = result + str(e) + \" ,\"\n",
    "        result = result[0:len(result)-2] + \"}\"\n",
    "        return result\n",
    "\n",
    "    @staticmethod    \n",
    "    def eliminate_duplicate(l):\n",
    "        s = []\n",
    "        for e in l:\n",
    "            if e not in s:\n",
    "                s.append(e)\n",
    "        l[:] = []\n",
    "        for e in s:\n",
    "            l.append(e)\n",
    "\n",
    "    \n",
    "if __name__ == \"__main__\":\n",
    "    s = MySet([1, 2, 2, 3])\n",
    "    print s\n",
    "    t = MySet([2, 3, 4, 5, 6, 7, 8, 8, 8, 8, 8, 9])\n",
    "    print t"
   ]
  },
  {
   "cell_type": "markdown",
   "metadata": {},
   "source": [
    "#### ::설명::\n",
    "    init()은 클래스의 생성자입니다. s = MySet([1, 2, 2, 3])의 코드에서 [1, 2, 2, 3]을 받으면 자기 객체 s의 리스트에 1, 2, 2, 3을 추가한 후에 eliminate_duplicate(self)를 통해서 중복되는 원소를 제거합니다. 최종적으로 s는 [1,2,3]이 되는 것입니다. 이 때 eliminate_duplicate는 정적 메소드로 정의하였는데 정적 메소드란 인스턴스 객체와 무관하게 클래스 이름 공간에 존재하는 메소드로서 클래스 이름을 이용하여 직접 호출할 수 있는 메소드를 말합니다. eliminate_duplicate(I)를 보면 self가 없는 것을 볼 수 있습니다. str()은 print 예약어에 대응되는 메소드입니다. print s 를 했을때 s객체의 내용을 표시해주는 기능을 합니다. Myset은 집합 자료형을 정의하려는 메소드이기 때문에 str의 내용에서 집합 표시인 {} 형으로 표시 되도록 코딩한 것을 볼 수 있습니다."
   ]
  },
  {
   "cell_type": "markdown",
   "metadata": {},
   "source": [
    "---\n",
    "### [문제 5]\n",
    "#### 4번 문제에 정의된 MySet 클래스에 메소드를 추가하여 다음 각 요구사항 모두를 만족시키는 코딩을 제시하시오.\n"
   ]
  },
  {
   "cell_type": "code",
   "execution_count": 16,
   "metadata": {
    "collapsed": false
   },
   "outputs": [
    {
     "name": "stdout",
     "output_type": "stream",
     "text": [
      "MySet: {1 ,2 ,3}\n",
      "MySet: {2 ,3 ,4 ,5 ,6 ,7 ,8 ,9}\n"
     ]
    }
   ],
   "source": [
    "class MySet(list):\n",
    "    def __init__(self, l):\n",
    "        for e in l:\n",
    "            self.append(e)\n",
    "        MySet.eliminate_duplicate(self)\n",
    "    \n",
    "    def __str__(self):\n",
    "        result = \"MySet: {\"\n",
    "        for e in self:\n",
    "            result = result + str(e) + \" ,\"\n",
    "        result = result[0:len(result)-2] + \"}\"\n",
    "        return result\n",
    "    \n",
    "    #요구사항1. 설명란에서 설명!\n",
    "    def __or__(self, other):\n",
    "        I = []\n",
    "        for e in self:\n",
    "            I.append(e)\n",
    "        for e in other:\n",
    "            I.append(e)\n",
    "        MySet.eliminate_duplicate(I)\n",
    "        return MySet(I)\n",
    "    #요구사항2. 설명란에서 설명!\n",
    "    def __and__(self, other):\n",
    "        I = []\n",
    "        for e in other:\n",
    "            if e in self:\n",
    "                I.append(e)\n",
    "        return MySet(I)\n",
    "    #요구사항3. 설명란에서 설명!    \n",
    "    def __sub__(self, other):\n",
    "        I = []\n",
    "        for e in self:\n",
    "            if e not in other:\n",
    "                I.append(e)\n",
    "        return MySet(I)\n",
    "\n",
    "    @staticmethod    \n",
    "    def eliminate_duplicate(l):\n",
    "        s = []\n",
    "        for e in l:\n",
    "            if e not in s:\n",
    "                s.append(e)\n",
    "        l[:] = []\n",
    "        for e in s:\n",
    "            l.append(e)\n",
    "\n",
    "    \n",
    "if __name__ == \"__main__\":\n",
    "    s = MySet([1, 2, 2, 3])\n",
    "    print s\n",
    "    t = MySet([2, 3, 4, 5, 6, 7, 8, 8, 8, 8, 8, 9])\n",
    "    print t"
   ]
  },
  {
   "cell_type": "markdown",
   "metadata": {},
   "source": [
    "#### ::설명::\n",
    "1. [요구사항 1] | 연산자 중복정의를 위해 _ _or_ _ 을 사용하였습니다. self의 내용과 other의 내용을 전부 다 리스트 I에 넣은 후 eliminate_duplicate를 활용하여 중복되는 원소를 제거한 후 I를 이용한 새로운 객체를 반환하도록 코딩하였습니다.\n",
    "2. [요구사항 2] & 연산자 중복정의를 위해 _ _and_ _ 을 사용하였습니다. other의 원소중에서 self에도 들어있는 원소가 있다면 I에 추가하여 교집합 I를 만든 후 I를 이용한 새로운 객체를 반환하도록 코딩하였습니다.\n",
    "3. [요구사항 3] - 연산자 중복정의를 위해 _ _sub_ _ 을 사용하였습니다. self의 원소 중에 other에 포함되지 않는 원소들만 I에 추가하여 차집합 I를 만든 후 I를 이용한 새로운 객체를 반환하도록 코딩하였습니다."
   ]
  },
  {
   "cell_type": "markdown",
   "metadata": {
    "collapsed": true
   },
   "source": [
    "---\n",
    "### [문제 6]\n",
    "#### 5번 문제에서 정의한 MySet 클래스에 대해 다음 예제를 수행하면 오류없이 올바르게 동작하는 것을 확인할 수 있다. 다음 예제 내에 있는 len(), bool() 내장함수와 in 키워드 사용 예제가 별다른 메소드 정의를 하지 않았는 데도 올바르게 수행되는 이유를 설명하시오."
   ]
  },
  {
   "cell_type": "code",
   "execution_count": 17,
   "metadata": {
    "collapsed": false,
    "scrolled": true
   },
   "outputs": [
    {
     "name": "stdout",
     "output_type": "stream",
     "text": [
      "6\n",
      "True\n",
      "True\n"
     ]
    }
   ],
   "source": [
    "s = MySet([1, 2, 3, 4, 5, 6])\n",
    "\n",
    "print len(s)\n",
    "\n",
    "print bool(s)\n",
    "\n",
    "print 2 in s\n"
   ]
  },
  {
   "cell_type": "markdown",
   "metadata": {},
   "source": [
    "#### ::설명::\n",
    "    len, bool, in 등이 내장함수이기 때문입니다. 내장 함수란 파이썬의 주요 함수로써, 이름 공간에 명시적으로 들여올 필요 없이 언제든지 사용할 수 있는 것들이기 때문에 별다른 메소드 정의를 하지 않아도 올바르게 코드가 수행됩니다."
   ]
  },
  {
   "cell_type": "markdown",
   "metadata": {},
   "source": [
    "---\n",
    "### [프로젝트 오일러 16]\n",
    "#### 215 = 32768 의 각 자리수를 더하면 3 + 2 + 7 + 6 + 8 = 26 입니다.\n",
    "\n",
    "#### 21000의 각 자리수를 모두 더하면 얼마입니까?\n"
   ]
  },
  {
   "cell_type": "code",
   "execution_count": 1,
   "metadata": {
    "collapsed": false
   },
   "outputs": [
    {
     "name": "stdout",
     "output_type": "stream",
     "text": [
      "1366\n"
     ]
    }
   ],
   "source": [
    "s = str(2**1000)\n",
    "L =[]\n",
    "for i in range(0, len(s)):\n",
    "    L.append(int(s[i]))\n",
    "    \n",
    "print sum(L)\n"
   ]
  },
  {
   "cell_type": "markdown",
   "metadata": {},
   "source": [
    "#### ::설명::\n",
    "    2^1000의 값을 문자열 형태로 s에 저장한 후 인덱스를 하나씩 늘려가며 0부터 마지막까지 숫자 하나하나를 다시 int형으로 변환하여 리스트에 추가해주었습니다. 그 후 sum을 통해 리스트의 모든 값을 더하여 출력하면 각 자리수를 모두 더한 값이 출력됩니다.\n",
    "#### 답: 1366"
   ]
  },
  {
   "cell_type": "markdown",
   "metadata": {},
   "source": [
    "---\n",
    "### [프로젝트 오일러 17]\n",
    "#### 1부터 5까지의 숫자를 영어로 쓰면 one, two, three, four, five 이고,\n",
    "#### 각 단어의 길이를 더하면 3 + 3 + 5 + 4 + 4 = 19 이므로 사용된 글자는 모두 19개입니다.\n",
    "\n",
    "#### 1부터 1,000까지 영어로 썼을 때는 모두 몇 개의 글자를 사용해야 할까요?\n"
   ]
  },
  {
   "cell_type": "code",
   "execution_count": 3,
   "metadata": {
    "collapsed": false
   },
   "outputs": [
    {
     "name": "stdout",
     "output_type": "stream",
     "text": [
      "21124\n"
     ]
    }
   ],
   "source": [
    "D = {0:0,1:3,2:3,3:5,4:4,5:4,6:3,7:5,8:5,9:4,10:3,11:6,12:6,13:8,14:8,15:7,16:7,17:9,18:8,19:8,20:6,30:6,40:5,50:5,60:5,70:7,80:6,90:6,100:7,1000:8}\n",
    "\n",
    "mynum = 0\n",
    "\n",
    "for i in range(1, 1001):\n",
    "        if i <= 20 :\n",
    "            mynum = mynum + D[i]\n",
    "        elif i>20 and i<100 :\n",
    "            mynum = mynum + D[(i/10)*10] + D[i%10]\n",
    "        elif i>=100 and i<1000 :\n",
    "            if i%100 != 0 :\n",
    "                if i%100 > 20 :\n",
    "                    mynum = mynum + D[(i/100)] + D[100] + 3 + D[(i%100)/10*10] + D[i%10]\n",
    "                elif i%100 <= 20 :\n",
    "                    mynum = mynum + D[(i/100)] + D[100] + 3 + D[i%100]\n",
    "            else :\n",
    "                mynum = mynum + D[(i/100)] + D[100]\n",
    "        else :\n",
    "            mynum = mynum + D[(i/1000)] + D[1000]\n",
    "        \n",
    "print mynum"
   ]
  },
  {
   "cell_type": "markdown",
   "metadata": {},
   "source": [
    "#### ::설명::\n",
    "1. 먼저 조건에 맞게 적절히 숫자를 세기 위해 1부터 1000까지 중 추가해야 할 숫자들만 사전에 숫자와 영어로 썼을때의 글자 수를 묶어 추가하였습니다.\n",
    "2. i를 1부터 1000까지 반복하여 숫자에 따라서 사전을 각각 다르게 조합해 단어 수를 세었습니다.\n",
    "3. 20 이하일때는 사전에 넣어진 단어 수 그대로를 mynum(총 단어 수)에 추가합니다. 20초과 100 미만일때는 10의자리수 + 1의자리수로 추가합니다. 100이상 1000미만일때는 100으로 나누어 떨어지는것과 아닌것을 나누어서 더했습니다. 1000일때는 1000의 단어 수를 추가하여 총 단어 수를 구하였습니다.\n",
    "#### 답 : 21124"
   ]
  },
  {
   "cell_type": "markdown",
   "metadata": {},
   "source": [
    "---\n",
    "### [프로젝트 오일러 18]\n",
    "#### 삼각형의 꼭대기부터 아래쪽으로 인접한 숫자를 찾아 내려가면서 합을 구하면, 위의 그림처럼 3 + 7 + 4 + 9 = 23 이 가장 큰 합을 갖는 경로가 됩니다. \n",
    "\n",
    "#### 다음 삼각형에서 합이 최대가 되는 경로를 찾아서 그 합을 구하세요. (삼각형 생략)"
   ]
  },
  {
   "cell_type": "code",
   "execution_count": 4,
   "metadata": {
    "collapsed": false
   },
   "outputs": [
    {
     "name": "stdout",
     "output_type": "stream",
     "text": [
      "1074\n"
     ]
    }
   ],
   "source": [
    "I = [[75], [95, 64], [17, 47, 82], [18, 35, 87, 10], [20, 4, 82, 47, 65], [19, 1, 23, 75, 3, 34], [88, 2, 77, 73, 7, 63, 67], [99, 65, 4, 28, 6, 16, 70, 92], [41, 41, 26, 56, 83, 40, 80, 70, 33], [41, 48, 72, 33, 47, 32, 37, 16, 94, 29], [53, 71, 44, 65, 25, 43, 91, 52, 97, 51, 14], [70, 11, 33, 28, 77, 73, 17, 78, 39, 68, 17, 57], [91, 71, 52, 38, 17, 14, 91, 43, 58, 50, 27, 29, 48], [63, 66, 4, 68, 89, 53, 67, 30, 73, 16, 69, 87, 40, 31], [4, 62, 98, 27, 23, 9, 70, 98, 73, 93, 38, 53, 60, 4, 23]]\n",
    "\n",
    "L = []\n",
    "\n",
    "for n1 in range(0, 1) :\n",
    "    for n2 in range(n1, n1+2) :\n",
    "        for n3 in range(n2, n2+2) :\n",
    "            for n4 in range(n3, n3+2) :\n",
    "                for n5 in range(n4, n4+2) :\n",
    "                    for n6 in range(n5, n5+2) :\n",
    "                        for n7 in range(n6, n6+2) :\n",
    "                            for n8 in range(n7, n7+2) :\n",
    "                                for n9 in range(n8, n8+2) :\n",
    "                                    for n10 in range(n9, n9+2) :\n",
    "                                        for n11 in range(n10, n10+2) :\n",
    "                                            for n12 in range(n11, n11+2) :\n",
    "                                                for n13 in range(n12, n12+2) :\n",
    "                                                    for n14 in range(n13, n13+2) :\n",
    "                                                        for n15 in range(n14, n14+2) :\n",
    "                                                            L.append(I[0][n1]+I[1][n2]+I[2][n3]+I[3][n4]+I[4][n5]+I[5][n6]+I[6][n7]+I[7][n8]+I[8][n9]+I[9][n10]+I[10][n11]+I[11][n12]+I[12][n13]+I[13][n14]+I[14][n15])\n",
    "                 \n",
    "                 \n",
    "\n",
    "L.sort(reverse=True)\n",
    "\n",
    "print L[0]\n",
    "                 "
   ]
  },
  {
   "cell_type": "markdown",
   "metadata": {},
   "source": [
    "#### ::설명::\n",
    "1. 삼각형을 줄 단위로 리스트에 저장합니다.\n",
    "2. 15중 반복문을 사용하여 자신의 윗 줄의 해당 숫자의 인덱스, 해당 숫자의 인덱스+1 에만 접근할 수 있도록 범위를 설정하고 15줄을 한 숫자씩 더하였습니다.\n",
    "3. 더한 숫자는 L에 저장하고, L을 내림차순 정렬하여 L[0]을 출력하면 가장 큰 숫자가 출력됩니다.\n",
    "#### 답 : 1074"
   ]
  },
  {
   "cell_type": "markdown",
   "metadata": {},
   "source": [
    "---\n",
    "### [문제 10]\n",
    "#### 이전 Assignment 3 (Assignment 4가 아님)의 마지막 문제는 웹 URL로 지정된 웹페이지를 문자열로 가져와 모든 HTML 태그 및 CSS와 Javascript를 제외한 순수 텍스트를 얻어내고 그 안에 존재하는 단어를 추출하여 각 단어들에 대해 출현빈도를 사전형태({'world': 2, 'hello': 1, 'python': 1})로 저장하여 출력하는 것이었다. 이번에는 Assignment 3을 다시 확장/변형하여 다음과 같은 조건을 만족하도록 구현하시오.\n"
   ]
  },
  {
   "cell_type": "code",
   "execution_count": 3,
   "metadata": {
    "collapsed": false,
    "scrolled": true
   },
   "outputs": [
    {
     "name": "stdout",
     "output_type": "stream",
     "text": [
      "http://www.cnn.com\n",
      "http://www.ikonet.com/en/visualdictionary/\n",
      "http://theoatmeal.com/tag/grammar\n",
      "http://www.esl-lab.com\n",
      "{'Friday': 1, 'Snack': 1, 'corps': 1, 'httpwwwquestionprocomaTakeSurvey': 1, 'Boutique': 1, 'Texting': 1, 'themes': 1, 'jeunesse': 1, 'Trivia': 1, 'Business': 3, 'Kicking': 1, 'Object': 1, 'Trees': 1, '0': 2, 'Bookstore': 1, 'Theft': 1, 'explode': 1, 'Funerals': 1, 'Day': 5, 'activities': 1, 'Grocery': 1, 'NationVital': 2, 'Condolences': 1, 'Sky': 1, 'RANDOM': 1, 'Internationalnbsp': 1, 'Candy': 1, 'Conversation': 1, 'Tech': 1, 'artwork': 1, 'Economy': 1, 'Restaurants': 1, 'Exotic': 1, 'illustrated': 1, 'Hamburger': 1, 'Crowd': 1, 'Hiking': 3, 'AllnbspRightsnbspReservedCNNnbspSansnbsptradenbspnbspcopynbsp2016nbspCablenbspNewsnbspNetworkTerms': 1, 'skills': 1, 'rights': 1, 'Trail': 1, 'Pies': 1, 'configskipCount': 1, 'ABCs': 1, 'Text': 1, 'study': 1, 'Breakfast': 1, 'Systems': 2, 'Town': 4, 'CODE': 1, 'Spending': 1, 'Interviews': 1, 'Accent': 4, 'School': 5, 'servicenbsp': 1, 'Matthew': 1, 'Version': 2, 'Library': 1, 'Easy': 4, 'Finding': 1, 'patient': 1, 'panda': 1, 'Ride': 2, 'errors': 1, 'SecurityInnovation': 2, 'Form': 1, 'Singles': 1, 'Visual': 8, 'Alcoholics': 1, 'Link': 1, 'Randall': 8, 'Call': 1, 'public': 1, 'Dates': 1, 'Short': 1, 'Qu\\xe2\\x80\\x99estce': 1, 'Gift': 1, 'LITERALLY': 1, 'Zook': 1, 'Budget': 1, 'newsFeature': 2, 'Contact': 3, 'Marriage': 2, 'English': 5, 'WatchTV': 2, 'onlinenbsp': 1, 'Accounts': 1, 'search': 1, 'POPUP': 1, 'Parent': 1, 'Deal': 1, 'configpopupMessage': 1, 'configshowFooter': 1, 'PolicyAdChoicesAdvertise': 1, '30': 1, 'largerthanlife': 1, 'survey': 1, 'HomeRegionsUSAfricaAmericasAsiaChinaEuropeMiddle': 1, 'Home': 4, 'Airplane': 2, 'makes': 1, 'Sightseeing': 1, 'Chores': 1, 'PoliticsMoneyEntertainmentTechSportTravelStyleFeaturesVideoLive': 1, 'Privacy': 1, 'Multimedia': 1, 'EastOpinionUS': 2, 'Languages': 1, 'Tutor': 1, 'Book': 1, 'Health': 2, 'UsePrivacy': 1, 'Sick': 1, 'Basic': 1, 'Bamboo': 1, 'Nice': 1, 'Help': 1, 'Fr': 1, 'Camping': 1, 'TravellerDestinationsFeaturesFoodDrinkHotelsPartner': 2, 'Quizzes': 5, 'Diet': 1, 'sports': 1, 'Matters': 1, 'ikonetcom': 1, '6': 1, '2688301': 1, 'Wheres': 1, 'York': 1, 'Renting': 3, 'MusicGadgetsCyber': 2, 'clicking': 1, 'Vacation': 2, 'Telling': 1, 'visual': 1, 'Facebook': 1, 'Donations': 1, 'Inman': 1, 'Time': 5, 'doityourself': 1, 'sample': 1, 'Traditions': 1, 'Family': 6, 'Habit': 1, 'science': 1, 'People': 1, 'Cosmetic': 1, 'SignsSportFootballGolfTennisMotorsportHorseracingEquestrianSailingSkiingTravelAviationBusiness': 2, 'Bath': 1, 'Martial': 1, 'Video': 2, 'Visitor': 1, 'Lifeskill': 1, 'meet': 1, 'Children': 1, 'Repairs': 2, 'Le': 4, 'links': 1, 'Media': 2, 'Drivers': 1, '550': 1, 'Visuel': 3, 'Starters': 1, 'Cats': 1, 'Party': 3, 'clothing': 1, 'Christmas': 2, 'Pizza': 1, 'information': 1, 'LE': 1, 'Terms': 3, 'Friendly': 1, '1': 2, 'Identity': 1, 'animal': 1, 'answer': 1, 'instead': 1, 'config': 1, 'Society': 1, 'Violence': 1, 'Chat': 1, 'License': 1, 'CheckIn': 1, 'Players': 2, '4th': 1, 'frnbsp': 1, 'spelling': 1, 'View': 8, 'purchase': 1, 'short': 1, 'Shoes': 1, 'Japanese': 2, 'Weather': 2, 'Radio': 2, 'Franccedilais': 1, 'NewsHomeRegionsUS': 1, 'Ameacuterique': 1, 'HotelsFashionDesignArchitectureArtsAutosLuxuryFeaturesFreedom': 2, 'Trip': 3, 'Relationships': 2, 'Salons': 1, 'FAQ': 1, 'Eye': 1, 'office': 1, 'Livres': 2, 'TeamBusinessMarketsTechLuxuryEntertainmentCelebrity': 2, 'Housing': 1, 'Breaking': 1, 'Scholarships': 1, 'nbsp': 3, 'FeaturesVideoVideo': 2, 'Tips': 7, 'WorldInside': 2, 'sitesiReportInternational': 1, 'Lectures': 1, 'le': 1, 'Prepare': 1, 'Emergency': 2, 'la': 1, 'personal': 1, 'Conversations': 3, 'Dental': 2, 'expectations': 1, 'Lhistoire': 1, 'preferenceUSInternationalConfirmUSInternationalArabicEspa\\xc3\\xb1olcopynbsp2016nbspCablenbspNewsnbspNetwork': 1, 'policy': 1, 'World': 5, '2016': 2, 'Directions': 3, 'easier': 1, 'Raising': 1, 'versus': 1, 'adornment': 1, 'Grammar': 4, '3': 1, 'Mobile': 1, 'Car': 5, 'practice': 1, 'Saving': 1, 'Seasons': 2, 'Cards': 1, 'yourself': 1, 'handy': 1, 'people': 1, 'Glasses': 1, 'wont': 1, 'articles': 1, 'Visuelnbsp': 1, 'grammar': 1, 'Campaign': 1, 'Rental': 4, 'Homestay': 1, 'Acting': 1, 'TOPIC': 1, 'realistic': 1, 'Thanks': 1, 'Hobbies': 1, 'Degrees': 2, 'Weekly': 1, 'Arts': 1, 'en': 1, 'Expressing': 1, 'house': 1, 'energy': 1, 'TurnernbspBroadcastingnbspSystemnbspInc': 1, 'idea': 1, 'FAQs': 1, 'society': 1, 'Discovers': 1, 'happen': 1, 'Reading': 1, 'es': 1, 'Styles': 1, 'Medium': 10, 'Lawyers': 1, 'Successful': 1, 'Welcome': 1, 'content': 1, 'Job': 4, 'flushing': 1, 'Report': 3, 'configpopupInvitationHeader': 1, 'Beginning': 1, 'Class': 2, 'common': 1, 'preferenceUSInternationalConfirmInternational': 1, 'Theater': 1, 'dictionary': 2, 'Queacutebec': 1, 'Tests': 1, 'que': 1, 'Telephone': 1, 'Meet': 1, 'Security': 3, 'configwindowPositionLeft': 1, 'language': 1, 'created': 1, 'Money': 3, 'National': 1, 'days': 1, 'butterflies': 1, 'Diccionario': 1, 'Human': 2, 'Users': 1, 'ResultsNationWorldOur': 2, 'partnerships': 1, 'Suicide': 1, 'dont': 1, 'Copyright': 1, 'Review': 1, 'Please': 2, 'EZSlang': 3, 'Cell': 1, 'Start': 3, 'Program': 2, 'Stars': 2, 'WorldwideMore\\xe2\\x80\\xa6WeatherCNN': 2, 'comic': 2, 'Exercise': 1, 'Website': 1, 'little': 1, 'Dictionary': 4, '2': 3, 'Adult': 1, 'Press': 1, 'store': 2, 'showsTV': 2, 'Search': 3, 'Rare': 1, 'Refinancing': 1, 'Language': 7, 'Preparation': 1, 'Date': 1, 'Fun': 1, 'copy': 2, 'Road': 1, 'Taxi': 2, 'Set': 1, 'Love': 1, 'thumbnails': 1, '17': 1, 'Apartments': 4, 'dans': 1, 'Cyber': 1, 'Edition': 1, 'raquoInternational': 1, 'SURVEY': 1, 'Reunion': 1, 'Advertise': 1, 'Settlement': 1, 'Click': 1, 'Information': 1, 'false': 1, 'Movie': 4, 'Sites': 4, 'Machine': 1, 'Downloadable': 1, 'sentences': 1, 'Interview': 2, 'Soccer': 1, 'Remember': 1, 'Arrival': 1, 'Activities': 4, 'releases': 1, 'Moving': 1, 'Food': 1, 'Kyoto': 1, 'DifficultAirport': 1, 'Kit': 1, 'Parenting': 1, 'Arrangements': 1, 'build': 1, 'Virtual': 2, 'Ticket': 1, 'Teacher': 2, 'Bank': 1, 'Rent': 1, 'HeroesCNN': 2, 'Getting': 1, 'Healthy': 1, 'Computers': 2, 'Mishaps': 1, 'Oatmeal': 1, 'visitors': 1, 'Games': 2, 'Advertising': 2, 'Run': 1, 'configwindowPositionTop': 1, 'Whats': 3, 'Childrens': 1, 'configpopupMode': 1, 'Institutional': 1, 'Clothing': 3, 'Voices': 2, 'QA': 2, 'Fishing': 1, 'Survey': 2, 'Lessons': 1, 'Web': 3, 'VIDEOS': 1, 'degreesAll': 2, 'Game': 3, 'Summer': 2, 'NewsBreaking': 1, 'Test': 1, 'earth': 1, 'Public': 1, 'Resources': 3, 'configpopupInvitationLaterMessage': 1, 'Kingdom': 1, 'semaine': 1, 'FirstTime': 1, 'Hunting': 4, 'Safety': 1, 'underpants': 1, 'Japan': 1, 'Explore': 1, 'French': 1, 'TOEFLTOEIC': 1, 'Artifacts': 1, 'theme': 1, 'Traffic': 2, 'succ\\xc3\\xa8s': 1, 'Solar': 1, 'Complaints': 1, 'Furniture': 1, 'Accident': 1, 'de': 1, 'Favorite': 1, 'bear': 1, 'monde': 1, 'Stories': 1, 'words': 1, 'Popular': 1, 'Saturdays': 1, 'Handouts': 1, 'Cancer': 1, 'Random': 1, 'CULTURE': 1, 'Secrets': 1, 'architecture': 1, 'Greener': 1, 'Education': 1, 'steal': 1, 'iPad': 2, 'sitesiReportUSInternationalEspantildeolArabicSet': 1, 'questions': 1, 'Driving': 2, 'Pet': 1, 'Ideas': 2, 'Africa2': 2, 'Zoo': 1, 'edition': 4, 'Supplies': 1, 'configsurveyStartMessage': 1, 'Enjoying': 1, 'Taped': 1, 'Washer': 1, 'feared': 1, 'Forecast': 1, 'Shopping': 5, 'deVisu': 1, 'visiting': 1, 'movie': 1, 'Park': 1, 'sites': 1, 'POUR': 1, 'Choice': 1, 'usNewslettersWork': 1, 'Prices': 1, 'Conferencing': 1, 'conditions': 1, 'iPadiPhoneiPodAndroid': 1, 'Body': 2, 'MerriamWebster': 1, 'Study': 1, 'key': 1, 'Team': 1, 'Havent': 1, 'Friends': 1, 'Surgery': 1, 'kitchen': 1, 'Woes': 1, 'Phones': 1, 'iPod': 1, 'Schedule': 2, 'Arches': 1, 'Computer': 1, 'games': 1, 'Features': 1, 'apostrophe': 1, 'Everyday': 1, 'Apartment': 2, 'Log': 1, 'Mortgage': 1, 'Aging': 1, 'DVD': 2, 'Travel': 11, 'Snow': 1, 'Returns': 1, 'storenbsp': 1, 'Online': 7, 'Dating': 5, 'Smart': 1, 'speak': 1, 'Play': 1, 'ESLLABCOM': 1, 'Degree': 1, 'Students': 4, 'Bus': 2, 'Calendars': 1, 'Immigration': 1, 'whom': 1, 'Train': 5, 'Plan': 1, 'Frnbsp': 1, 'Worksheets': 1, '500': 1, 'Care': 3, 'engine': 1, 'Wedding': 2, 'Answering': 1, 'shopping': 1, 'Center': 2, 'configanimationMode': 1, 'Tokyo': 1, 'Textbooks': 1, 'usHelpTranscriptsLicense': 1, 'Woman': 1, 'Airlines': 1, 'httpwwwquestionprocom': 1, 'Credit': 2, 'Night': 1, 'Professional': 1, 'EditionSet': 1, 'matter': 1, 'Gardening': 1, 'look': 1, 'appearance': 1, 'Sales': 1, 'College': 5, 'Market': 1, 'Skiing': 1, 'Battle': 1, 'Follow': 1, 'guide': 2, 'dontcha': 1, 'Tickets': 1, 'showsHLNTV': 2, 'Cooking': 1, 'site': 1, 'Cyberbullying': 1, 'Content': 1, 'Ideal': 1, 'Intermediate': 1, 'Towing': 1, 'ironic': 1, '20Minute': 1, 'ie': 1, 'Tell': 1, 'Plans': 2, 'Printable': 1, 'punctuation': 1, 'food': 1, 'Blood': 1, 'grand': 1, 'vegetable': 1, 'Loans': 1, 'Randalls': 9, 'Medical': 1, 'automation': 1, 'Movies': 2, 'Airport': 1, 'UTILISER': 1, 'Teachers': 1, 'Dream': 1, 'configisRightToLeft': 1, 'preferenceUSInternationalConfirmFacebookTwitterInstagram': 1, 'Project': 1, 'theater': 1, 'database': 1, 'Reservations': 2, 'Tour': 2, 'Club': 1, 'iPhoneiPod': 1, 'machinery': 1, 'preferenceUSInternationalConfirmHomeRegionsUSAfricaAmericasAsiaChinaEuropeMiddle': 1, 'Tools': 1, 'Living': 2, 'Flower': 1, 'Using': 1, 'Service': 1, 'Mountain': 1, 'Gourmet': 1, 'reservedRead': 1, 'Social': 1, 'EditionUSInternationalArabicEspa\\xc3\\xb1olSet': 2, 'Access': 1, 'Reduction': 1, 'Adsense': 1, 'Supermarket': 1, 'human': 1, 'Internet': 3, 'Heavenly': 1, 'Happy': 1, 'Front': 1, 'Advice': 1, 'Jeu': 1, 'YouTube': 1, 'Leisure': 1, 'Applications': 1, 'Anonymous': 1, 'Divorce': 1, 'usage': 1, 'News': 3, 'Discussion': 1, 'kingdom': 2, 'GOOGLE': 1, 'Restaurant': 3, 'Programs': 1, 'Camp': 1, 'Eclipse': 1, 'Drug': 1, 'Try': 1, 'Dinner': 2, 'listening': 2, 'INTERNATIONAL': 1, 'bit': 1, 'Prevention': 1, 'Shop': 5, 'AccountsVoice': 1, 'Cookies': 1, 'Fashion': 1, 'Honey': 1, 'communications': 1, 'Learning': 4, 'configsurveyID': 1, 'Babysitting': 1, 'Treatment': 1, 'gardening': 1, 'Animal': 1, 'Entertainment': 1, 'Whos': 1, 'usAbout': 1, 'Archives': 1, 'complete': 1, 'proper': 1, 'Email': 2, 'transport': 1, 'Listen': 2, 'ProjectImpact': 2, 'Life': 2, 'Holiday': 1, 'vocabulary': 2, 'd\\xe2\\x80\\x99un': 1, 'Preparations': 1, 'Customs': 1, 'Met': 1, '\\xc2\\xa0Survey': 1, 'External': 1, 'Lawsuit': 1, 'FootageCNN': 1, 'Lifestyle': 1, 'Look': 1, 'Comics': 5, 'arts': 1, 'Daily': 4, 'Times': 1, 'virtuel': 1, 'Dictionnaire': 1, 'Davis': 1, 'Picnic': 1, 'Vocabulary': 2, 'Communications': 1, 'Dryer': 1, 'Image': 1, 'browse': 1, '72Hour': 1, 'Questions': 1, 'Roommates': 1, 'Message': 1, 'Telemarketing': 1, 'software': 1, 'Majors': 1, 'Story': 1, 'whats': 1, 'Cup': 1, 'image': 2, 'Beauty': 1, 'LicenseBuy': 1, 'Add': 1, 'configtakeSurveyURL': 1, 'Speech': 1, 'Meeting': 4, 'Addiction': 1, 'Store': 2, 'ProfilesLeadershipPressroomPartner': 2, 'astronomy': 1, 'Phone': 3, 'Hotel': 4, 'Lists': 1, 'Invitations': 1, 'Landscaping': 1, 'pronunciation': 1, 'Birthday': 1, 'Listening': 6, 'Company': 1, 'var': 1, 'Smoking': 1, 'eg': 1, 'Animals': 1, 'invite': 1, 'form': 1, 'Snacks': 1, 'ligne': 1, 'Coming': 1, 'WebMovies': 2, 'Anniversary': 1, 'Names': 1, 'humain': 1, 'goals': 1, 'Quiz': 2, 'true': 1, 'Guide': 5, 'Twitter': 1, 'Audio': 1, 'mobile': 1, 'below': 1, 'Books': 2, 'exploration': 1, 'Card': 1, 'HIKINGRUNNING': 1, 'Barbecue': 1, 'Blues': 1, 'Insurance': 1, 'MP3': 1, 'Announcement': 1, 'configinvitationDelay': 1, 'USA': 1, 'Space': 2, 'Personal': 2, 'Free': 4, 'sales': 1, 'Site': 1, 'Blog': 6, 'confighome': 1, 'SelfStudy': 2, 'TV': 2, 'Utah': 3, 'Lab': 1, 'Delivery': 1, 'Career': 1, 'Running': 2, 'Fridays': 1, '5': 1, 'Student': 3, 'scheduleFaces': 2, 'Difficult': 3, 'PoliticsElection': 2, 'Customer': 1, 'explaining': 1, 'Baking': 1, 'Lost': 1, 'University': 2, 'Recipes': 1, 'InSight': 2, 'meaning': 1, 'Airline': 1, 'Earth': 2, 'CNN': 3, 'Rentals': 3, 'ESL': 10, 'Ad': 2, 'Academic': 1, 'Newsource': 1, 'Haircut': 1, 'Purposes': 1, 'Private': 1, 'Introductions': 1, 'Street': 1, 'Spanish': 1, 'Newsletter': 1, 'Roots': 2}\n",
      "['Travel']\n",
      "None\n",
      "['http://www.esl-lab.com']\n"
     ]
    }
   ],
   "source": [
    "import urllib2\n",
    "import string\n",
    "\n",
    "#source = [urllib2.urlopen(\"http://www.ikonet.com/en/visualdictionary/\").read(), \\\n",
    "#          urllib2.urlopen(\"http://theoatmeal.com/tag/grammar\").read(), \\\n",
    "#          urllib2.urlopen(\"http://www.bloomberg.com/live/asia\").read(), \\\n",
    "#          urllib2.urlopen(\"http://www.esl-lab.com/\").read(), \\\n",
    "#          urllib2.urlopen(\"http://www.usalearns.org/\").read()]\n",
    "\n",
    "def cmp_1(a1, a2):\n",
    "    return cmp(a2[1], a1[1])\n",
    "\n",
    "class WebWordsFrequency(list):\n",
    "    def __init__(self, *url):\n",
    "        for i in range(0,len(url)):\n",
    "            self.append(url[i])\n",
    "    def addUrl(self, url):\n",
    "        self.append(url)\n",
    "    def removeUrl(self, url):\n",
    "        self.remove(url)\n",
    "    def listUrls(self):\n",
    "        for i in self:\n",
    "            print i\n",
    "    def getWordsFrequency(self):\n",
    "        stop = ['a', 'about', 'above', 'across', 'after', 'again', 'against', 'all', 'almost', 'alone', 'along', 'already', 'also', 'although', 'always', 'among', 'an', 'and', 'another', 'any', 'anybody', 'anyone', 'anything', 'anywhere', 'are', 'area', 'areas', 'around', 'as', 'ask', 'asked', 'asking', 'asks', 'at', 'away', 'b', 'back', 'backed', 'backing', 'backs', 'be', 'became', 'because', 'become', 'becomes', 'been', 'before', 'began', 'behind', 'being', 'beings', 'best', 'better', 'between', 'big', 'both', 'but', 'by', 'c', 'came', 'can', 'cannot', 'case', 'cases', 'certain', 'certainly', 'clear', 'clearly', 'come', 'could', 'd', 'did', 'differ', 'different', 'differently', 'do', 'does', 'done', 'down', 'down', 'downed', 'downing', 'downs', 'during', 'e', 'each', 'early', 'either', 'end', 'ended', 'ending', 'ends', 'enough', 'even', 'evenly', 'ever', 'every', 'everybody', 'everyone', 'everything', 'everywhere', 'f', 'face', 'faces', 'fact', 'facts', 'far', 'felt', 'few', 'find', 'finds', 'first', 'for', 'four', 'from', 'full', 'fully', 'further', 'furthered', 'furthering', 'furthers', 'g', 'gave', 'general', 'generally', 'get', 'gets', 'give', 'given', 'gives', 'go', 'going', 'good', 'goods', 'got', 'great', 'greater', 'greatest', 'group', 'grouped', 'grouping', 'groups', 'h', 'had', 'has', 'have', 'having', 'he', 'her', 'here', 'herself', 'high', 'high', 'high', 'higher', 'highest', 'him', 'himself', 'his', 'how', 'however', 'i', 'if', 'important', 'in', 'interest', 'interested', 'interesting', 'interests', 'into', 'is', 'it', 'its', 'itself', 'j', 'just', 'k', 'keep', 'keeps', 'kind', 'knew', 'know', 'known', 'knows', 'l', 'large', 'largely', 'last', 'later', 'latest', 'least', 'less', 'let', 'lets', 'like', 'likely', 'long', 'longer', 'longest', 'm', 'made', 'make', 'making', 'man', 'many', 'may', 'me', 'member', 'members', 'men', 'might', 'more', 'most', 'mostly', 'mr', 'mrs', 'much', 'must', 'my', 'myself', 'n', 'necessary', 'need', 'needed', 'needing', 'needs', 'never', 'new', 'new', 'newer', 'newest', 'next', 'no', 'nobody', 'non', 'noone', 'not', 'nothing', 'now', 'nowhere', 'number', 'numbers', 'o', 'of', 'off', 'often', 'old', 'older', 'oldest', 'on', 'once', 'one', 'only', 'open', 'opened', 'opening', 'opens', 'or', 'order', 'ordered', 'ordering', 'orders', 'other', 'others', 'our', 'out', 'over', 'p', 'part', 'parted', 'parting', 'parts', 'per', 'perhaps', 'place', 'places', 'point', 'pointed', 'pointing', 'points', 'possible', 'present', 'presented', 'presenting', 'presents', 'problem', 'problems', 'put', 'puts', 'q', 'quite', 'r', 'rather', 'really', 'right', 'right', 'room', 'rooms', 's', 'said', 'same', 'saw', 'say', 'says', 'second', 'seconds', 'see', 'seem', 'seemed', 'seeming', 'seems', 'sees', 'several', 'shall', 'she', 'should', 'show', 'showed', 'showing', 'shows', 'side', 'sides', 'since', 'small', 'smaller', 'smallest', 'so', 'some', 'somebody', 'someone', 'something', 'somewhere', 'state', 'states', 'still', 'still', 'such', 'sure', 't', 'take', 'taken', 'than', 'that', 'the', 'their', 'them', 'then', 'there', 'therefore', 'these', 'they', 'thing', 'things', 'think', 'thinks', 'this', 'those', 'though', 'thought', 'thoughts', 'three', 'through', 'thus', 'to', 'today', 'together', 'too', 'took', 'toward', 'turn', 'turned', 'turning', 'turns', 'two', 'u', 'under', 'until', 'up', 'upon', 'us', 'use', 'used', 'uses', 'v', 'very', 'w', 'want', 'wanted', 'wanting', 'wants', 'was', 'way', 'ways', 'we', 'well', 'wells', 'went', 'were', 'what', 'when', 'where', 'whether', 'which', 'while', 'who', 'whole', 'whose', 'why', 'will', 'with', 'within', 'without', 'work', 'worked', 'working', 'works', 'would', 'x', 'y', 'year', 'years', 'yet', 'you', 'young', 'younger', 'youngest', 'your', 'yours', 'z']\n",
    "        t = string.punctuation\n",
    "        I = [e for e in t]\n",
    "        L = []\n",
    "        source = [urllib2.urlopen(i).read() for i in self]\n",
    "        for i in range(0, len(source)):\n",
    "            x = 0\n",
    "            s = \"\"\n",
    "            while( x != len(source[i])):\n",
    "                if source[i][x] == '<':\n",
    "                    if source[i][x+1:x+7] == 'script':\n",
    "                        while source[i][x-8:x+1] != '</script>':\n",
    "                            x += 1\n",
    "                        if source[i][x] == '>' and x != len(source[i]):\n",
    "                            x += 1\n",
    "                    elif source[i][x+1:x+6] == 'style':\n",
    "                        while source[i][x-7:x+1] != '</style>':\n",
    "                            x += 1\n",
    "                        if source[i][x] == '>' and x != len(source[i]):\n",
    "                            x += 1\n",
    "                    else:\n",
    "                        while source[i][x] != '>':\n",
    "                            x += 1\n",
    "                        if source[i][x] == '>' and x != len(source[i]):\n",
    "                            x += 1\n",
    "                elif source[i][x:x+4] == '&amp':\n",
    "                    x += 4\n",
    "                else :\n",
    "                    if source[i][x] in I:\n",
    "                        x += 1\n",
    "                    else:\n",
    "                        s = s+source[i][x]\n",
    "                        x += 1\n",
    "    \n",
    "            L.append(s.split())\n",
    "            \n",
    "    \n",
    "        #영어 불용어들 제거하는 코드\n",
    "        L2 = []\n",
    "        for x in L:\n",
    "            for y in x:\n",
    "                Y = y.lower()\n",
    "                if not Y in stop:\n",
    "                    L2.append(y)\n",
    "    \n",
    "        #공백 단위로 단어 쪼개고 단어 넣을 딕셔너리 선언\n",
    "        words = {}\n",
    " \n",
    "        #단어 쪼개놓은 리스트에서 각각 단어의 개수 세기\n",
    "        for i in L2 :\n",
    "            if not i in words.keys():\n",
    "                words[i]=1\n",
    "            else:\n",
    "                words[i]=words[i]+1\n",
    "\n",
    "        return words\n",
    "    \n",
    "    def getMaxFreqencyWords(self):\n",
    "        L = (self.getWordsFrequency()).items()\n",
    "        if not L:\n",
    "            return None #비어있으면 None\n",
    "        L.sort(cmp_1)\n",
    "        isTop = True\n",
    "        i = 0\n",
    "        L2 = []\n",
    "        while isTop :\n",
    "            #같은 개수면 같은 개수인것 다 출력\n",
    "            L2.append(L[i][0])\n",
    "            if L[i][1] != L[i+1][1] :\n",
    "                isTop = False\n",
    "            i += 1\n",
    "        return L2\n",
    "    \n",
    "    def searchUrlByWord(self, word):\n",
    "        List = []\n",
    "        L2 = []\n",
    "        for i in range(0, len(self)):\n",
    "            List.append(self[i])\n",
    "        for i in List :\n",
    "            self.remove(i)\n",
    "        for i in range(0, len(List)):\n",
    "            self.append(List[i])\n",
    "            L = (self.getWordsFrequency()).items()\n",
    "            if not L:\n",
    "                return None #비어있으면 None\n",
    "            L.sort(cmp_1)\n",
    "            L2.append(L)\n",
    "            self.remove(List[i])\n",
    "        for i in List :\n",
    "            self.append(i)\n",
    "        Sim = {}\n",
    "        for i in self:\n",
    "            Sim[i] = 0\n",
    "        for x in range(0,len(L2)):\n",
    "            for i in range(0,len(L2[x])):\n",
    "                if word == L2[x][i][0]:\n",
    "                    Sim[self[x]] = L2[x][i][1]\n",
    "        L3 = Sim.items()\n",
    "        L3.sort(cmp_1)\n",
    "        isTop = True\n",
    "        i = 0\n",
    "        MyList = []\n",
    "        while isTop :\n",
    "            #같은 유사도이면 다 출력\n",
    "            MyList.append(L3[i][0])\n",
    "            if i == len(L3)-1 or L3[i][1] != L3[i+1][1] :\n",
    "                isTop = False\n",
    "            i += 1\n",
    "        return MyList\n",
    "        \n",
    "w1 = WebWordsFrequency('http://www.cnn.com','http://www.ikonet.com/en/visualdictionary/','http://theoatmeal.com/tag/grammar') \n",
    "w2 = WebWordsFrequency('http://www.cnn.com', 'http://www.ikonet.com/en/visualdictionary/') \n",
    "w3 = WebWordsFrequency()\n",
    "\n",
    "w1.addUrl('http://www.esl-lab.com')\n",
    "\n",
    "w1.listUrls()\n",
    "\n",
    "print w1.getWordsFrequency()\n",
    "\n",
    "print w1.getMaxFreqencyWords()\n",
    "print w3.getMaxFreqencyWords()\n",
    "print w1.searchUrlByWord('Web')"
   ]
  },
  {
   "cell_type": "markdown",
   "metadata": {},
   "source": [
    "#### ::설명::\n",
    "    클래스를 list클래스를 상속하도록 코딩하였습니다. 문제에서 요구한 여러 메소드를 정의하였습니다. 삭제나 삽입 메소드는 리스트 내부함수로 구현할 수 있었습니다. 단어 분석 메소드들은 이전 과제의 코드에서 종합적으로 묶어서 하도록 수정하고 그 외의 코드는 동일하도록 구성하였습니다. 유사도는 찾는 단어와 일치하는지 유사도를 키 값을 사이트로한 유사도를 정리한 사전을 만든 후 유사도가 높은 사이트를 출력하도록 하였습니다."
   ]
  },
  {
   "cell_type": "markdown",
   "metadata": {},
   "source": [
    "---\n",
    "### [문제 11]\n",
    "#### 위 10번 문제에서 정의한 WebWordsFrequency 클래스를 상속하여 OrderedWebWordsFrequency 클래스를 정의하고 슈퍼클래스에 정의된 getWordsFrequency() 메소드를 오버라이드 하여 단어 출현 빈도를 내림 차순으로 정렬하여 리스트로 출력하시오.\n",
    "\n"
   ]
  },
  {
   "cell_type": "code",
   "execution_count": 5,
   "metadata": {
    "collapsed": false,
    "scrolled": true
   },
   "outputs": [
    {
     "name": "stdout",
     "output_type": "stream",
     "text": [
      "[('Visual', 8), ('View', 8), ('Comics', 5), ('Online', 4), ('edition', 4), ('Dictionary', 4), ('Le', 4), ('Grammar', 3), ('nbsp', 3), ('Start', 3), ('Visuel', 3), ('CNN', 3), ('0', 2), ('Livres', 2), ('TeamBusinessMarketsTechLuxuryEntertainmentCelebrity', 2), ('degreesAll', 2), ('EditionUSInternationalArabicEspa\\xc3\\xb1olSet', 2), ('FeaturesVideoVideo', 2), ('WorldInside', 2), ('2016', 2), ('kingdom', 2), ('Shop', 2), ('ProjectImpact', 2), ('iPad', 2), ('SecurityInnovation', 2), ('NationVital', 2), ('Body', 2), ('English', 2), ('WatchTV', 2), ('newsFeature', 2), ('guide', 2), ('Contact', 2), ('Human', 2), ('ResultsNationWorldOur', 2), ('image', 2), ('ProfilesLeadershipPressroomPartner', 2), ('EastOpinionUS', 2), ('WorldwideMore\\xe2\\x80\\xa6WeatherCNN', 2), ('comic', 2), ('TravellerDestinationsFeaturesFoodDrinkHotelsPartner', 2), ('store', 2), ('showsTV', 2), ('MusicGadgetsCyber', 2), ('Africa2', 2), ('Language', 2), ('WebMovies', 2), ('copy', 2), ('SignsSportFootballGolfTennisMotorsportHorseracingEquestrianSailingSkiingTravelAviationBusiness', 2), ('Books', 2), ('showsHLNTV', 2), ('Search', 2), ('Virtual', 2), ('Blog', 2), ('Survey', 2), ('scheduleFaces', 2), ('PoliticsElection', 2), ('HeroesCNN', 2), ('InSight', 2), ('Games', 2), ('QA', 2), ('HotelsFashionDesignArchitectureArtsAutosLuxuryFeaturesFreedom', 2), ('Web', 1), ('punctuation', 1), ('corps', 1), ('Breaking', 1), ('sites', 1), ('themes', 1), ('POUR', 1), ('human', 1), ('instead', 1), ('Multimedia', 1), ('jeunesse', 1), ('Resources', 1), ('configpopupInvitationLaterMessage', 1), ('sitesiReportInternational', 1), ('le', 1), ('office', 1), ('Business', 1), ('la', 1), ('personal', 1), ('true', 1), ('underpants', 1), ('Privacy', 1), ('usNewslettersWork', 1), ('French', 1), ('Applications', 1), ('theme', 1), ('preferenceUSInternationalConfirmUSInternationalArabicEspa\\xc3\\xb1olcopynbsp2016nbspCablenbspNewsnbspNetwork', 1), ('succ\\xc3\\xa8s', 1), ('httpwwwquestionprocomaTakeSurvey', 1), ('policy', 1), ('World', 1), ('Boutique', 1), ('adornment', 1), ('flushing', 1), ('Mobile', 1), ('6', 1), ('RANDOM', 1), ('Internationalnbsp', 1), ('bear', 1), ('Thanks', 1), ('answer', 1), ('monde', 1), ('Tech', 1), ('configpopupInvitationHeader', 1), ('Popular', 1), ('INTERNATIONAL', 1), ('bit', 1), ('little', 1), ('handy', 1), ('look', 1), ('articles', 1), ('Copyright', 1), ('Visuelnbsp', 1), ('configanimationMode', 1), ('AllnbspRightsnbspReservedCNNnbspSansnbsptradenbspnbspcopynbsp2016nbspCablenbspNewsnbspNetworkTerms', 1), ('usage', 1), ('config', 1), ('Random', 1), ('communications', 1), ('storenbsp', 1), ('form', 1), ('architecture', 1), ('configsurveyID', 1), ('Lhistoire', 1), ('steal', 1), ('Institutional', 1), ('sitesiReportUSInternationalEspantildeolArabicSet', 1), ('gardening', 1), ('questions', 1), ('Entertainment', 1), ('house', 1), ('energy', 1), ('TurnernbspBroadcastingnbspSystemnbspInc', 1), ('idea', 1), ('servicenbsp', 1), ('Fr', 1), ('usAbout', 1), ('Discovers', 1), ('earth', 1), ('proper', 1), ('configsurveyStartMessage', 1), ('panda', 1), ('transport', 1), ('Qu\\xe2\\x80\\x99estce', 1), ('explode', 1), ('Diccionario', 1), ('errors', 1), ('illustrated', 1), ('Edition', 1), ('d\\xe2\\x80\\x99un', 1), ('Welcome', 1), ('below', 1), ('NewsBreaking', 1), ('content', 1), ('configskipCount', 1), ('en', 1), ('External', 1), ('exploration', 1), ('conditions', 1), ('public', 1), ('iPadiPhoneiPodAndroid', 1), ('preferenceUSInternationalConfirmInternational', 1), ('FootageCNN', 1), ('MerriamWebster', 1), ('SURVEY', 1), ('Look', 1), ('dictionary', 1), ('LITERALLY', 1), ('Queacutebec', 1), ('Zook', 1), ('Play', 1), ('virtuel', 1), ('semaine', 1), ('que', 1), ('Dictionnaire', 1), ('onlinenbsp', 1), ('kitchen', 1), ('configwindowPositionLeft', 1), ('search', 1), ('POPUP', 1), ('configpopupMessage', 1), ('configshowFooter', 1), ('PolicyAdChoicesAdvertise', 1), ('largerthanlife', 1), ('Quizzes', 1), ('butterflies', 1), ('games', 1), ('HomeRegionsUSAfricaAmericasAsiaChinaEuropeMiddle', 1), ('configtakeSurveyURL', 1), ('apostrophe', 1), ('software', 1), ('PoliticsMoneyEntertainmentTechSportTravelStyleFeaturesVideoLive', 1), ('Object', 1), ('dont', 1), ('grammar', 1), ('Jeu', 1), ('Matthew', 1), ('Please', 1), ('expectations', 1), ('Home', 1), ('iPhoneiPod', 1), ('UsePrivacy', 1), ('false', 1), ('arts', 1), ('configwindowPositionTop', 1), ('CODE', 1), ('browse', 1), ('appearance', 1), ('sports', 1), ('whom', 1), ('2', 1), ('Explore', 1), ('Frnbsp', 1), ('Press', 1), ('2688301', 1), ('engine', 1), ('shopping', 1), ('ikonetcom', 1), ('clicking', 1), ('ligne', 1), ('usHelpTranscriptsLicense', 1), ('sales', 1), ('httpwwwquestionprocom', 1), ('var', 1), ('visual', 1), ('short', 1), ('humain', 1), ('News', 1), ('dontcha', 1), ('EditionSet', 1), ('Guide', 1), ('doityourself', 1), ('thumbnails', 1), ('17', 1), ('society', 1), ('science', 1), ('created', 1), ('dans', 1), ('Newsource', 1), ('raquoInternational', 1), ('Video', 1), ('500', 1), ('Inman', 1), ('frnbsp', 1), ('meet', 1), ('artwork', 1), ('Image', 1), ('partnerships', 1), ('Archives', 1), ('versus', 1), ('configinvitationDelay', 1), ('links', 1), ('ironic', 1), ('Cats', 1), ('Downloadable', 1), ('550', 1), ('Animals', 1), ('clothing', 1), ('invite', 1), ('confighome', 1), ('LE', 1), ('Terms', 1), ('releases', 1), ('TV', 1), ('ie', 1), ('FAQ', 1), ('food', 1), ('5', 1), ('es', 1), ('animal', 1), ('grand', 1), ('vegetable', 1), ('Seasons', 1), ('feared', 1), ('machinery', 1), ('Customer', 1), ('explaining', 1), ('de', 1), ('preferenceUSInternationalConfirmHomeRegionsUSAfricaAmericasAsiaChinaEuropeMiddle', 1), ('eg', 1), ('Oatmeal', 1), ('automation', 1), ('Ameacuterique', 1), ('meaning', 1), ('4th', 1), ('Advertising', 1), ('\\xc2\\xa0Survey', 1), ('Earth', 1), ('spelling', 1), ('astronomy', 1), ('survey', 1), ('configisRightToLeft', 1), ('preferenceUSInternationalConfirmFacebookTwitterInstagram', 1), ('purchase', 1), ('visitors', 1), ('Newsletter', 1), ('configpopupMode', 1), ('database', 1), ('mobile', 1), ('makes', 1), ('site', 1), ('visiting', 1), ('Food', 1), ('common', 1), ('Weather', 1), ('Franccedilais', 1), ('NewsHomeRegionsUS', 1), ('Spanish', 1), ('deVisu', 1), ('UTILISER', 1), ('Tools', 1)]\n",
      "[('Web', 1), ('punctuation', 1), ('corps', 1), ('Breaking', 1), ('sites', 1), ('themes', 1), ('POUR', 1), ('human', 1), ('instead', 1), ('Multimedia', 1), ('jeunesse', 1), ('Resources', 1), ('configpopupInvitationLaterMessage', 1), ('sitesiReportInternational', 1), ('le', 1), ('office', 1), ('Business', 1), ('la', 1), ('personal', 1), ('true', 1), ('underpants', 1), ('Privacy', 1), ('usNewslettersWork', 1), ('French', 1), ('Applications', 1), ('theme', 1), ('preferenceUSInternationalConfirmUSInternationalArabicEspa\\xc3\\xb1olcopynbsp2016nbspCablenbspNewsnbspNetwork', 1), ('succ\\xc3\\xa8s', 1), ('httpwwwquestionprocomaTakeSurvey', 1), ('policy', 1), ('World', 1), ('Boutique', 1), ('adornment', 1), ('flushing', 1), ('Mobile', 1), ('6', 1), ('RANDOM', 1), ('Internationalnbsp', 1), ('bear', 1), ('Thanks', 1), ('answer', 1), ('monde', 1), ('Tech', 1), ('configpopupInvitationHeader', 1), ('Popular', 1), ('INTERNATIONAL', 1), ('bit', 1), ('little', 1), ('handy', 1), ('look', 1), ('articles', 1), ('Copyright', 1), ('Visuelnbsp', 1), ('configanimationMode', 1), ('AllnbspRightsnbspReservedCNNnbspSansnbsptradenbspnbspcopynbsp2016nbspCablenbspNewsnbspNetworkTerms', 1), ('usage', 1), ('config', 1), ('Random', 1), ('communications', 1), ('storenbsp', 1), ('form', 1), ('architecture', 1), ('configsurveyID', 1), ('Lhistoire', 1), ('steal', 1), ('Institutional', 1), ('sitesiReportUSInternationalEspantildeolArabicSet', 1), ('gardening', 1), ('questions', 1), ('Entertainment', 1), ('house', 1), ('energy', 1), ('TurnernbspBroadcastingnbspSystemnbspInc', 1), ('idea', 1), ('servicenbsp', 1), ('Fr', 1), ('usAbout', 1), ('Discovers', 1), ('earth', 1), ('proper', 1), ('configsurveyStartMessage', 1), ('panda', 1), ('transport', 1), ('Qu\\xe2\\x80\\x99estce', 1), ('explode', 1), ('Diccionario', 1), ('errors', 1), ('illustrated', 1), ('Edition', 1), ('d\\xe2\\x80\\x99un', 1), ('Welcome', 1), ('below', 1), ('NewsBreaking', 1), ('content', 1), ('configskipCount', 1), ('en', 1), ('External', 1), ('exploration', 1), ('conditions', 1), ('public', 1), ('iPadiPhoneiPodAndroid', 1), ('preferenceUSInternationalConfirmInternational', 1), ('FootageCNN', 1), ('MerriamWebster', 1), ('SURVEY', 1), ('Look', 1), ('dictionary', 1), ('LITERALLY', 1), ('Queacutebec', 1), ('Zook', 1), ('Play', 1), ('virtuel', 1), ('semaine', 1), ('que', 1), ('Dictionnaire', 1), ('onlinenbsp', 1), ('kitchen', 1), ('configwindowPositionLeft', 1), ('search', 1), ('POPUP', 1), ('configpopupMessage', 1), ('configshowFooter', 1), ('PolicyAdChoicesAdvertise', 1), ('largerthanlife', 1), ('Quizzes', 1), ('butterflies', 1), ('games', 1), ('HomeRegionsUSAfricaAmericasAsiaChinaEuropeMiddle', 1), ('configtakeSurveyURL', 1), ('apostrophe', 1), ('software', 1), ('PoliticsMoneyEntertainmentTechSportTravelStyleFeaturesVideoLive', 1), ('Object', 1), ('dont', 1), ('grammar', 1), ('Jeu', 1), ('Matthew', 1), ('Please', 1), ('expectations', 1), ('Home', 1), ('iPhoneiPod', 1), ('UsePrivacy', 1), ('false', 1), ('arts', 1), ('configwindowPositionTop', 1), ('CODE', 1), ('browse', 1), ('appearance', 1), ('sports', 1), ('whom', 1), ('2', 1), ('Explore', 1), ('Frnbsp', 1), ('Press', 1), ('2688301', 1), ('engine', 1), ('shopping', 1), ('ikonetcom', 1), ('clicking', 1), ('ligne', 1), ('usHelpTranscriptsLicense', 1), ('sales', 1), ('httpwwwquestionprocom', 1), ('var', 1), ('visual', 1), ('short', 1), ('humain', 1), ('News', 1), ('dontcha', 1), ('EditionSet', 1), ('Guide', 1), ('doityourself', 1), ('thumbnails', 1), ('17', 1), ('society', 1), ('science', 1), ('created', 1), ('dans', 1), ('Newsource', 1), ('raquoInternational', 1), ('Video', 1), ('500', 1), ('Inman', 1), ('frnbsp', 1), ('meet', 1), ('artwork', 1), ('Image', 1), ('partnerships', 1), ('Archives', 1), ('versus', 1), ('configinvitationDelay', 1), ('links', 1), ('ironic', 1), ('Cats', 1), ('Downloadable', 1), ('550', 1), ('Animals', 1), ('clothing', 1), ('invite', 1), ('confighome', 1), ('LE', 1), ('Terms', 1), ('releases', 1), ('TV', 1), ('ie', 1), ('FAQ', 1), ('food', 1), ('5', 1), ('es', 1), ('animal', 1), ('grand', 1), ('vegetable', 1), ('Seasons', 1), ('feared', 1), ('machinery', 1), ('Customer', 1), ('explaining', 1), ('de', 1), ('preferenceUSInternationalConfirmHomeRegionsUSAfricaAmericasAsiaChinaEuropeMiddle', 1), ('eg', 1), ('Oatmeal', 1), ('automation', 1), ('Ameacuterique', 1), ('meaning', 1), ('4th', 1), ('Advertising', 1), ('\\xc2\\xa0Survey', 1), ('Earth', 1), ('spelling', 1), ('astronomy', 1), ('survey', 1), ('configisRightToLeft', 1), ('preferenceUSInternationalConfirmFacebookTwitterInstagram', 1), ('purchase', 1), ('visitors', 1), ('Newsletter', 1), ('configpopupMode', 1), ('database', 1), ('mobile', 1), ('makes', 1), ('site', 1), ('visiting', 1), ('Food', 1), ('common', 1), ('Weather', 1), ('Franccedilais', 1), ('NewsHomeRegionsUS', 1), ('Spanish', 1), ('deVisu', 1), ('UTILISER', 1), ('Tools', 1), ('0', 2), ('Livres', 2), ('TeamBusinessMarketsTechLuxuryEntertainmentCelebrity', 2), ('degreesAll', 2), ('EditionUSInternationalArabicEspa\\xc3\\xb1olSet', 2), ('FeaturesVideoVideo', 2), ('WorldInside', 2), ('2016', 2), ('kingdom', 2), ('Shop', 2), ('ProjectImpact', 2), ('iPad', 2), ('SecurityInnovation', 2), ('NationVital', 2), ('Body', 2), ('English', 2), ('WatchTV', 2), ('newsFeature', 2), ('guide', 2), ('Contact', 2), ('Human', 2), ('ResultsNationWorldOur', 2), ('image', 2), ('ProfilesLeadershipPressroomPartner', 2), ('EastOpinionUS', 2), ('WorldwideMore\\xe2\\x80\\xa6WeatherCNN', 2), ('comic', 2), ('TravellerDestinationsFeaturesFoodDrinkHotelsPartner', 2), ('store', 2), ('showsTV', 2), ('MusicGadgetsCyber', 2), ('Africa2', 2), ('Language', 2), ('WebMovies', 2), ('copy', 2), ('SignsSportFootballGolfTennisMotorsportHorseracingEquestrianSailingSkiingTravelAviationBusiness', 2), ('Books', 2), ('showsHLNTV', 2), ('Search', 2), ('Virtual', 2), ('Blog', 2), ('Survey', 2), ('scheduleFaces', 2), ('PoliticsElection', 2), ('HeroesCNN', 2), ('InSight', 2), ('Games', 2), ('QA', 2), ('HotelsFashionDesignArchitectureArtsAutosLuxuryFeaturesFreedom', 2), ('Grammar', 3), ('nbsp', 3), ('Start', 3), ('Visuel', 3), ('CNN', 3), ('Online', 4), ('edition', 4), ('Dictionary', 4), ('Le', 4), ('Comics', 5), ('Visual', 8), ('View', 8)]\n"
     ]
    }
   ],
   "source": [
    "def cmp_2(a1, a2):\n",
    "    return cmp(a1[1], a2[1])\n",
    " \n",
    "class OrderedWebWordsFrequency(WebWordsFrequency):\n",
    "    def getWordsFrequency(self,reverse=False):\n",
    "        stop = ['a', 'about', 'above', 'across', 'after', 'again', 'against', 'all', 'almost', 'alone', 'along', 'already', 'also', 'although', 'always', 'among', 'an', 'and', 'another', 'any', 'anybody', 'anyone', 'anything', 'anywhere', 'are', 'area', 'areas', 'around', 'as', 'ask', 'asked', 'asking', 'asks', 'at', 'away', 'b', 'back', 'backed', 'backing', 'backs', 'be', 'became', 'because', 'become', 'becomes', 'been', 'before', 'began', 'behind', 'being', 'beings', 'best', 'better', 'between', 'big', 'both', 'but', 'by', 'c', 'came', 'can', 'cannot', 'case', 'cases', 'certain', 'certainly', 'clear', 'clearly', 'come', 'could', 'd', 'did', 'differ', 'different', 'differently', 'do', 'does', 'done', 'down', 'down', 'downed', 'downing', 'downs', 'during', 'e', 'each', 'early', 'either', 'end', 'ended', 'ending', 'ends', 'enough', 'even', 'evenly', 'ever', 'every', 'everybody', 'everyone', 'everything', 'everywhere', 'f', 'face', 'faces', 'fact', 'facts', 'far', 'felt', 'few', 'find', 'finds', 'first', 'for', 'four', 'from', 'full', 'fully', 'further', 'furthered', 'furthering', 'furthers', 'g', 'gave', 'general', 'generally', 'get', 'gets', 'give', 'given', 'gives', 'go', 'going', 'good', 'goods', 'got', 'great', 'greater', 'greatest', 'group', 'grouped', 'grouping', 'groups', 'h', 'had', 'has', 'have', 'having', 'he', 'her', 'here', 'herself', 'high', 'high', 'high', 'higher', 'highest', 'him', 'himself', 'his', 'how', 'however', 'i', 'if', 'important', 'in', 'interest', 'interested', 'interesting', 'interests', 'into', 'is', 'it', 'its', 'itself', 'j', 'just', 'k', 'keep', 'keeps', 'kind', 'knew', 'know', 'known', 'knows', 'l', 'large', 'largely', 'last', 'later', 'latest', 'least', 'less', 'let', 'lets', 'like', 'likely', 'long', 'longer', 'longest', 'm', 'made', 'make', 'making', 'man', 'many', 'may', 'me', 'member', 'members', 'men', 'might', 'more', 'most', 'mostly', 'mr', 'mrs', 'much', 'must', 'my', 'myself', 'n', 'necessary', 'need', 'needed', 'needing', 'needs', 'never', 'new', 'new', 'newer', 'newest', 'next', 'no', 'nobody', 'non', 'noone', 'not', 'nothing', 'now', 'nowhere', 'number', 'numbers', 'o', 'of', 'off', 'often', 'old', 'older', 'oldest', 'on', 'once', 'one', 'only', 'open', 'opened', 'opening', 'opens', 'or', 'order', 'ordered', 'ordering', 'orders', 'other', 'others', 'our', 'out', 'over', 'p', 'part', 'parted', 'parting', 'parts', 'per', 'perhaps', 'place', 'places', 'point', 'pointed', 'pointing', 'points', 'possible', 'present', 'presented', 'presenting', 'presents', 'problem', 'problems', 'put', 'puts', 'q', 'quite', 'r', 'rather', 'really', 'right', 'right', 'room', 'rooms', 's', 'said', 'same', 'saw', 'say', 'says', 'second', 'seconds', 'see', 'seem', 'seemed', 'seeming', 'seems', 'sees', 'several', 'shall', 'she', 'should', 'show', 'showed', 'showing', 'shows', 'side', 'sides', 'since', 'small', 'smaller', 'smallest', 'so', 'some', 'somebody', 'someone', 'something', 'somewhere', 'state', 'states', 'still', 'still', 'such', 'sure', 't', 'take', 'taken', 'than', 'that', 'the', 'their', 'them', 'then', 'there', 'therefore', 'these', 'they', 'thing', 'things', 'think', 'thinks', 'this', 'those', 'though', 'thought', 'thoughts', 'three', 'through', 'thus', 'to', 'today', 'together', 'too', 'took', 'toward', 'turn', 'turned', 'turning', 'turns', 'two', 'u', 'under', 'until', 'up', 'upon', 'us', 'use', 'used', 'uses', 'v', 'very', 'w', 'want', 'wanted', 'wanting', 'wants', 'was', 'way', 'ways', 'we', 'well', 'wells', 'went', 'were', 'what', 'when', 'where', 'whether', 'which', 'while', 'who', 'whole', 'whose', 'why', 'will', 'with', 'within', 'without', 'work', 'worked', 'working', 'works', 'would', 'x', 'y', 'year', 'years', 'yet', 'you', 'young', 'younger', 'youngest', 'your', 'yours', 'z']\n",
    "        t = string.punctuation\n",
    "        I = [e for e in t]\n",
    "        L = []\n",
    "        source = [urllib2.urlopen(i).read() for i in self]\n",
    "        for i in range(0, len(source)):\n",
    "            x = 0\n",
    "            s = \"\"\n",
    "            while( x != len(source[i])):\n",
    "                if source[i][x] == '<':\n",
    "                    if source[i][x+1:x+7] == 'script':\n",
    "                        while source[i][x-8:x+1] != '</script>':\n",
    "                            x += 1\n",
    "                        if source[i][x] == '>' and x != len(source[i]):\n",
    "                            x += 1\n",
    "                    elif source[i][x+1:x+6] == 'style':\n",
    "                        while source[i][x-7:x+1] != '</style>':\n",
    "                            x += 1\n",
    "                        if source[i][x] == '>' and x != len(source[i]):\n",
    "                            x += 1\n",
    "                    else:\n",
    "                        while source[i][x] != '>':\n",
    "                            x += 1\n",
    "                        if source[i][x] == '>' and x != len(source[i]):\n",
    "                            x += 1\n",
    "                elif source[i][x:x+4] == '&amp':\n",
    "                    x += 4\n",
    "                else :\n",
    "                    if source[i][x] in I:\n",
    "                        x += 1\n",
    "                    else:\n",
    "                        s = s+source[i][x]\n",
    "                        x += 1\n",
    "    \n",
    "            L.append(s.split())\n",
    "            \n",
    "    \n",
    "        #영어 불용어들 제거하는 코드\n",
    "        L2 = []\n",
    "        for x in L:\n",
    "            for y in x:\n",
    "                Y = y.lower()\n",
    "                if not Y in stop:\n",
    "                    L2.append(y)\n",
    "                    \n",
    "        #공백 단위로 단어 쪼개고 단어 넣을 딕셔너리 선언\n",
    "        words = {}\n",
    " \n",
    "        #단어 쪼개놓은 리스트에서 각각 단어의 개수 세기\n",
    "        for i in L2 :\n",
    "            if not i in words.keys():\n",
    "                words[i]=1\n",
    "            else:\n",
    "                words[i]=words[i]+1\n",
    " \n",
    "        MyList = words.items()\n",
    "        if reverse==True:\n",
    "            MyList.sort(cmp_2)\n",
    "        else:\n",
    "            MyList.sort(cmp_1)\n",
    "        \n",
    "        return MyList\n",
    "    \n",
    "    #def __iter__(self):\n",
    "        #self.index=0\n",
    "        #mylist = self.getWordsFrequency()\n",
    "        #return self\n",
    "    #def next(self):\n",
    "        #if self.index>=len(mylist):\n",
    "            #raise StopIteration\n",
    "        #i = mylist[self.index]\n",
    "        #self.index += 1\n",
    "        #return i      \n",
    "    \n",
    "w4 = OrderedWebWordsFrequency('http://www.cnn.com','http://www.ikonet.com/en/visualdictionary/','http://theoatmeal.com/tag/grammar')\n",
    "print w4.getWordsFrequency()\n",
    "print w4.getWordsFrequency(reverse=True)\n",
    "#for i in w4:\n",
    "       #print i"
   ]
  },
  {
   "cell_type": "markdown",
   "metadata": {},
   "source": [
    "#### ::설명::\n",
    "    단어 출현 빈도를 내림차순으로 정렬하여 리스트로 출력하는 것은 super 클래스의 코드를 그대로 따와 cmp_2 만 새로 추가하여 사전이 아닌 리스트로 출력하도록 수정해주었습니다. reverse 인자값은 if구문을 활용하여 코딩하였습니다."
   ]
  },
  {
   "cell_type": "markdown",
   "metadata": {
    "collapsed": true
   },
   "source": [
    "---\n",
    "### [문제 12]\n",
    "#### 다음과 같은 코딩이 가능하도록 OrderedWebWordsFrequency 안에 반복자와 관련된 메소드를 추가하시오.\n",
    "    >>> for i in w4:\n",
    "    >>>       print i\n",
    "    ('site, 12)\n",
    "    ('science', 11)\n",
    "    ('hello', 8)\n",
    "    ('world', 2)\n",
    "    ('program', 1)\n",
    "    ('python', 1)"
   ]
  },
  {
   "cell_type": "markdown",
   "metadata": {},
   "source": [
    "#### ::설명::\n",
    "    __ iter __ 와 __ next __를 추가하여 구현하였습니다. 클래스 내부 다른 함수에 self를 사용하는 for in 구문이 너무 많아서 문제 11에 주석으로 추가해두었습니다."
   ]
  },
  {
   "cell_type": "markdown",
   "metadata": {},
   "source": [
    "---\n",
    "### [느낀점]\n",
    "\n",
    "#### 마지막 과제를 완성하니 마음이 뿌듯합니다! 한 학기동안 모두 수고 많으셨습니다!!\n",
    "---"
   ]
  }
 ],
 "metadata": {
  "anaconda-cloud": {},
  "kernelspec": {
   "display_name": "Python [Root]",
   "language": "python",
   "name": "Python [Root]"
  },
  "language_info": {
   "codemirror_mode": {
    "name": "ipython",
    "version": 2
   },
   "file_extension": ".py",
   "mimetype": "text/x-python",
   "name": "python",
   "nbconvert_exporter": "python",
   "pygments_lexer": "ipython2",
   "version": "2.7.12"
  }
 },
 "nbformat": 4,
 "nbformat_minor": 0
}
